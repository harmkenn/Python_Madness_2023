{
 "cells": [
  {
   "cell_type": "code",
   "execution_count": 1,
   "metadata": {},
   "outputs": [],
   "source": [
    "# Scrape ESPN BPI 2008 to 2022\n",
    "# https://www.espn.com/mens-college-basketball/bpi/_/view/bpi/season/2008/page/2\n",
    "# Importing the required libraries\n",
    "import requests\n",
    "import pandas as pd\n",
    "from bs4 import BeautifulSoup\n",
    "import numpy as np\n",
    "\n",
    "season = np.arange(2008,2024,1)\n",
    "\n",
    "page = np.arange(1,8,1)\n",
    "\n",
    "allBPI = pd.DataFrame(columns = ['Year','Team','BPIO','BPID'])\n",
    "for y in season:\n",
    "    for x in page:\n",
    "        # Downloading contents of the web page\n",
    "        url = f\"https://www.espn.com/mens-college-basketball/bpi/_/view/bpi/season/{y}/page/{x}\"\n",
    "        data = requests.get(url).text\n",
    "\n",
    "        # Creating BeautifulSoup object\n",
    "        soup = BeautifulSoup(data, 'html.parser')\n",
    "        table = soup.find('table', class_='bpi__table')\n",
    "\n",
    "        # Collecting Ddata\n",
    "        for row in table.tbody.find_all('tr'):    \n",
    "            # Find all data for each column\n",
    "            columns = row.find_all('td')\n",
    "            \n",
    "            if(columns != []):\n",
    "               \n",
    "                Team = columns[1].find_all('span')[1].text.strip()\n",
    "               \n",
    "                BPIO = columns[4].text.strip()\n",
    "                BPID = columns[5].text.strip()\n",
    "                \n",
    "                newrow = [y,Team,BPIO,BPID]\n",
    "                allBPI.loc[len(allBPI)]=newrow\n",
    "allBPI.to_csv('step02_espnbpi0823.csv',index=False)"
   ]
  }
 ],
 "metadata": {
  "kernelspec": {
   "display_name": "Python 3",
   "language": "python",
   "name": "python3"
  },
  "language_info": {
   "codemirror_mode": {
    "name": "ipython",
    "version": 3
   },
   "file_extension": ".py",
   "mimetype": "text/x-python",
   "name": "python",
   "nbconvert_exporter": "python",
   "pygments_lexer": "ipython3",
   "version": "3.10.7"
  },
  "orig_nbformat": 4,
  "vscode": {
   "interpreter": {
    "hash": "f627b94a91bc915482d65575b2ea77ee7c3710ea9aacf075a668e3021bd93680"
   }
  }
 },
 "nbformat": 4,
 "nbformat_minor": 2
}
